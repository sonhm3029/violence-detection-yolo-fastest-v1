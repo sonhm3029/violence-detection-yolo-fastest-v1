{
 "cells": [
  {
   "cell_type": "code",
   "execution_count": null,
   "metadata": {},
   "outputs": [],
   "source": [
    "from darknet_images import *"
   ]
  },
  {
   "cell_type": "code",
   "execution_count": 2,
   "metadata": {},
   "outputs": [
    {
     "name": "stderr",
     "output_type": "stream",
     "text": [
      "'make' is not recognized as an internal or external command,\n",
      "operable program or batch file.\n"
     ]
    }
   ],
   "source": [
    "def detect():\n",
    "    args = parser()\n",
    "    check_arguments_errors(args)\n",
    "\n",
    "\n",
    "    config_file = \"/home/hoang/darknet-master/data/violence/yolo-fastest-1.1_v4.cfg\"\n",
    "    data_file = \"/home/hoang/darknet-master/data/violence/violence.data\"\n",
    "    weights = \"/home/hoang/darknet-master/yolofastestv1_modv4_94.66.weights\"\n",
    "    thresh = 0.8\n",
    "\n",
    "    random.seed(3)  # deterministic bbox colors\n",
    "    network, class_names, class_colors = darknet.load_network(\n",
    "        config_file,\n",
    "        data_file,\n",
    "        weights,\n",
    "        batch_size=1\n",
    "    )\n",
    "\n",
    "    video_path = \"Violence_1_drone - 3of8.mp4\"\n",
    "    \n",
    "    vid_capture = cv2.VideoCapture(video_path)\n",
    "\n",
    "    while( vid_capture.isOpened()):\n",
    "        ret, frame = vid_capture.read()\n",
    "        if ret == True:\n",
    "            image, detections = image_detection(\n",
    "                frame, network, class_names, class_colors, thresh\n",
    "            )\n",
    "            cv2.imshow(\"Frame\", frame)\n",
    "            cv2.waitKey(20)\n",
    "        else:\n",
    "            cv2.destroyAllWindows()\n",
    "            break"
   ]
  }
 ],
 "metadata": {
  "kernelspec": {
   "display_name": "Python 3",
   "language": "python",
   "name": "python3"
  },
  "language_info": {
   "codemirror_mode": {
    "name": "ipython",
    "version": 3
   },
   "file_extension": ".py",
   "mimetype": "text/x-python",
   "name": "python",
   "nbconvert_exporter": "python",
   "pygments_lexer": "ipython3",
   "version": "3.9.7"
  },
  "orig_nbformat": 4,
  "vscode": {
   "interpreter": {
    "hash": "9d2e2287b90f84c05b564773cad156a65fe051f83fa7c81a3ad23c3ed1bf9926"
   }
  }
 },
 "nbformat": 4,
 "nbformat_minor": 2
}
